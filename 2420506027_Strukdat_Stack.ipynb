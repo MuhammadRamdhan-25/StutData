{
  "nbformat": 4,
  "nbformat_minor": 0,
  "metadata": {
    "colab": {
      "provenance": [],
      "authorship_tag": "ABX9TyNnaT/V5djZoI1IBSO5yxuL",
      "include_colab_link": true
    },
    "kernelspec": {
      "name": "python3",
      "display_name": "Python 3"
    },
    "language_info": {
      "name": "python"
    }
  },
  "cells": [
    {
      "cell_type": "markdown",
      "metadata": {
        "id": "view-in-github",
        "colab_type": "text"
      },
      "source": [
        "<a href=\"https://colab.research.google.com/github/MuhammadRamdhan-25/StutData/blob/main/2420506027_Strukdat_Stack.ipynb\" target=\"_parent\"><img src=\"https://colab.research.google.com/assets/colab-badge.svg\" alt=\"Open In Colab\"/></a>"
      ]
    },
    {
      "cell_type": "markdown",
      "source": [
        "Latihan"
      ],
      "metadata": {
        "id": "7dwWCUhT0wgR"
      }
    },
    {
      "cell_type": "code",
      "execution_count": null,
      "metadata": {
        "colab": {
          "base_uri": "https://localhost:8080/"
        },
        "id": "o5yDsexWxMQN",
        "outputId": "d65308ab-9b7a-4870-a974-7c38f47113f5"
      },
      "outputs": [
        {
          "output_type": "stream",
          "name": "stdout",
          "text": [
            "['5']\n"
          ]
        }
      ],
      "source": [
        "class Stack:\n",
        "  def __init__(self):\n",
        "    self.stack = []\n",
        "\n",
        "  def push (self, item):\n",
        "    self.stack.append(item)\n",
        "\n",
        "\n",
        "s = Stack()\n",
        "s.push('5')\n",
        "print(s.stack)"
      ]
    },
    {
      "cell_type": "code",
      "source": [
        "class Stack:\n",
        "  def __init__(self):\n",
        "    self.stack =[]\n",
        "\n",
        "  def push(self, item):\n",
        "    self.stack.append(item)\n",
        "\n",
        "  def pop(self):\n",
        "    if len (self.stack) == 0:\n",
        "       return \"Stack Kosong\"\n",
        "    return self.stack.pop()\n",
        "\n",
        "s = Stack()\n",
        "s.push(5)\n",
        "s.push(10)\n",
        "print(s.pop())\n",
        "print(s.stack)"
      ],
      "metadata": {
        "colab": {
          "base_uri": "https://localhost:8080/"
        },
        "id": "cPMreFPKGS9X",
        "outputId": "53e635c7-a77b-45f7-8990-f6b752635bf3"
      },
      "execution_count": 3,
      "outputs": [
        {
          "output_type": "stream",
          "name": "stdout",
          "text": [
            "10\n",
            "[5]\n"
          ]
        }
      ]
    },
    {
      "cell_type": "code",
      "source": [
        "class Stack:\n",
        "  def __init__(self):\n",
        "    self.stack = []\n",
        "\n",
        "  def is_empty(self):\n",
        "    return len(self.stack) == 0\n",
        "\n",
        "s = Stack()\n",
        "print(s.is_empty())\n",
        "s.push(5)\n",
        "print(s.is_empty())"
      ],
      "metadata": {
        "id": "5ER4M-29G58Q"
      },
      "execution_count": null,
      "outputs": []
    },
    {
      "cell_type": "code",
      "source": [
        "class TextEditor:\n",
        "  def __init__ (self):\n",
        "    self.history =[]\n",
        "\n",
        "  def write (self, text):\n",
        "    self.history.append(text)\n",
        "\n",
        "  def undo(self):\n",
        "    if self.history:\n",
        "      return f\"Undo : Menghapus '{self.history.pop () }'\"\n",
        "    return \"Tidak ada yang bisa di-undo\"\n",
        "\n",
        "editor = TextEditor()\n",
        "editor.write(\"Teks Pertama\")\n",
        "editor.write(\"Teks Kedua\")\n",
        "editor.write(\"Teks Ketiga\")\n",
        "\n",
        "print(editor.undo())\n",
        "print(editor.undo())"
      ],
      "metadata": {
        "id": "MiWYasQK23EC",
        "colab": {
          "base_uri": "https://localhost:8080/"
        },
        "outputId": "7c0e67de-8a36-42db-8d5f-b60f61b72135"
      },
      "execution_count": null,
      "outputs": [
        {
          "output_type": "stream",
          "name": "stdout",
          "text": [
            "Undo : Menghapus 'Teks Ketiga'\n",
            "Undo : Menghapus 'Teks Kedua'\n"
          ]
        }
      ]
    },
    {
      "cell_type": "code",
      "source": [
        "#Latihan 1\n",
        "class UndoKalkulator:\n",
        "  def __init__(self):\n",
        "    self.stack =[value]\n",
        "\n",
        "  def tambah(self,value):\n",
        "    self.stack.append(self.stack[-1] + value)\n",
        "\n",
        "  def kurang(self,value):\n",
        "    self.stack.append(self.stack[-1] - value)\n",
        "\n",
        "  def kali(self,value):\n",
        "    self.stack.append(self.stack[-1] * value)\n",
        "\n",
        "  def undo(self):\n",
        "    if self.stack:\n",
        "      return self.stack.pop()\n",
        "    return \"Tidak ada yang bisa di-undo\"\n",
        "\n",
        "value = int(input(\"Masukkan angka: \"))\n",
        "kalkulator = UndoKalkulator()\n",
        "\n",
        "kalkulator.tambah(10)\n",
        "print('setelah ditambah 10:',kalkulator.stack[-1])\n",
        "\n",
        "kalkulator.kurang(5)\n",
        "print('setelah dikurangi 5:',kalkulator.stack[-1])\n",
        "\n",
        "kalkulator.kali(2)\n",
        "print('setelah dikalikan 2:',kalkulator.stack[-1])\n",
        "\n",
        "print('Undo pertama :',kalkulator.undo())\n",
        "print('Undo kedua :',kalkulator.undo())"
      ],
      "metadata": {
        "colab": {
          "base_uri": "https://localhost:8080/"
        },
        "id": "APWb5isYmaZ7",
        "outputId": "b40f7a65-fc59-4e3e-c5b8-22c688723390"
      },
      "execution_count": 14,
      "outputs": [
        {
          "output_type": "stream",
          "name": "stdout",
          "text": [
            "Masukkan angka: 27\n",
            "setelah ditambah 10: 37\n",
            "setelah dikurangi 5: 32\n",
            "setelah dikalikan 2: 64\n",
            "Undo pertama : 64\n",
            "Undo kedua : 32\n"
          ]
        }
      ]
    },
    {
      "cell_type": "code",
      "source": [
        "stack=[]\n",
        "\n",
        "stack.append('A')\n",
        "stack.append('B')\n",
        "stack.append('C')\n",
        "print(stack)\n",
        "\n",
        "\n",
        "top_element = stack[-1]\n",
        "print(top_element)\n",
        "print(stack)\n",
        "\n",
        "if not stack:\n",
        "  print(\"Stack kosong\")\n",
        "else:\n",
        "  print(\"Stack penuh\")\n",
        "\n"
      ],
      "metadata": {
        "colab": {
          "base_uri": "https://localhost:8080/"
        },
        "id": "N3bCp5zinakp",
        "outputId": "d403258c-a595-4386-ff35-9ccbc71cf629"
      },
      "execution_count": null,
      "outputs": [
        {
          "output_type": "stream",
          "name": "stdout",
          "text": [
            "['A', 'B', 'C']\n",
            "C\n",
            "['A', 'B', 'C']\n",
            "Stack penuh\n"
          ]
        }
      ]
    },
    {
      "cell_type": "code",
      "source": [
        "\n",
        "city = str(input(\"Dimana kamu tinggal? \"))\n",
        "pet = str(input(\"Siapa nama hewan peliharaan kamu? \"))\n",
        "band = city +' '+ pet\n",
        "print(f\"Nama band kamu adalah: {band}\")"
      ],
      "metadata": {
        "colab": {
          "base_uri": "https://localhost:8080/"
        },
        "id": "96OiaW0B1lTj",
        "outputId": "b593e68c-ba83-4a48-8efe-5dc5612ae324"
      },
      "execution_count": null,
      "outputs": [
        {
          "output_type": "stream",
          "name": "stdout",
          "text": [
            "Dimana kamu tinggal? temanggung\n",
            "Siapa nama hewan peliharaan kamu? anto\n",
            "Nama band kamu adalah: temanggung anto\n"
          ]
        }
      ]
    },
    {
      "cell_type": "code",
      "source": [
        "stack =['Rama','Aga', 'suep']\n",
        "print(stack)\n",
        "\n",
        "stack.pop()\n",
        "print(stack)\n",
        "\n",
        "stack.append('wahtu')\n",
        "print(stack)"
      ],
      "metadata": {
        "colab": {
          "base_uri": "https://localhost:8080/"
        },
        "id": "_W0xFkOHL5X6",
        "outputId": "08364050-72e9-45b4-cdd0-d40511631cef"
      },
      "execution_count": null,
      "outputs": [
        {
          "output_type": "stream",
          "name": "stdout",
          "text": [
            "['Rama', 'Aga', 'suep']\n",
            "['Rama', 'Aga']\n",
            "['Rama', 'Aga', 'wahtu']\n"
          ]
        }
      ]
    },
    {
      "cell_type": "code",
      "source": [
        "from collections import deque\n",
        "q = deque(['rama','anusa','bibal'])\n",
        "print(q)\n",
        "q.append('wok')\n",
        "print(q)\n",
        "q.append('kolu')\n",
        "print(q)\n",
        "print(q.pop())\n",
        "print(q.pop())\n",
        "print(q)"
      ],
      "metadata": {
        "colab": {
          "base_uri": "https://localhost:8080/"
        },
        "id": "mOtWkElbOYkU",
        "outputId": "03d0e168-e9a4-4d01-d2fa-4f5bea9cf1c1"
      },
      "execution_count": 21,
      "outputs": [
        {
          "output_type": "stream",
          "name": "stdout",
          "text": [
            "deque(['rama', 'anusa', 'bibal'])\n",
            "deque(['rama', 'anusa', 'bibal', 'wok'])\n",
            "deque(['rama', 'anusa', 'bibal', 'wok', 'kolu'])\n",
            "kolu\n",
            "wok\n",
            "deque(['rama', 'anusa', 'bibal'])\n"
          ]
        }
      ]
    },
    {
      "cell_type": "code",
      "source": [
        "#latihan 2\n",
        "from collections import deque\n",
        "\n",
        "class HEHE:\n",
        "  def __init__(self):\n",
        "    self.history = deque ()\n",
        "\n",
        "  def visit_Fitur (self, namaFitur):\n",
        "    self.history.append(namaFitur)\n",
        "    print(f\"Mengunjungi {namaFitur}\")\n",
        "\n",
        "  def back (self):\n",
        "    if len (self.history) >1:\n",
        "      self.history.pop()\n",
        "      print(f\"Kembali ke {self.history [- 1]}\")\n",
        "    else:\n",
        "      print(\"Riwayat Kosong\")\n",
        "\n",
        "  def generate_namaFitur(self, bulanLahir, npm_2digit):\n",
        "      return bulanLahir[0].upper() + npm_2digit\n",
        "\n",
        "bulanLahir = 'Oktober'\n",
        "npm_2digit = '27'\n",
        "\n",
        "navigasi = HEHE()\n",
        "\n",
        "\n",
        "Fitur1 = navigasi.generate_namaFitur(bulanLahir, npm_2digit) + '_Home'\n",
        "Fitur2 = navigasi.generate_namaFitur(bulanLahir, npm_2digit) +'_Profile'\n",
        "Fitur3 = navigasi.generate_namaFitur(bulanLahir, npm_2digit) +'_Settings'\n",
        "\n",
        "navigasi.visit_Fitur(Fitur1)\n",
        "navigasi.visit_Fitur(Fitur2)\n",
        "navigasi.visit_Fitur(Fitur3)\n",
        "\n",
        "navigasi.back()\n",
        "navigasi.back()\n",
        "navigasi.back()\n",
        ""
      ],
      "metadata": {
        "colab": {
          "base_uri": "https://localhost:8080/"
        },
        "id": "HjYf4iYdPyS1",
        "outputId": "a42d60a6-8f7a-4c0d-ff69-1d9da5f8be03"
      },
      "execution_count": 34,
      "outputs": [
        {
          "output_type": "stream",
          "name": "stdout",
          "text": [
            "Mengunjungi O27_Home\n",
            "Mengunjungi O27_Profile\n",
            "Mengunjungi O27_Settings\n",
            "Kembali ke O27_Profile\n",
            "Kembali ke O27_Home\n",
            "Riwayat Kosong\n"
          ]
        }
      ]
    },
    {
      "cell_type": "code",
      "source": [
        "#Latihan 3\n",
        "from queue import LifoQueue\n",
        "\n",
        "class HOHO:\n",
        "    def __init__(self):\n",
        "        self.drafts = LifoQueue()\n",
        "\n",
        "    def simpan_draft(self, nama_mahasiswa, npm, konten):\n",
        "        subjek = f\"{nama_mahasiswa[:2]}{npm[-2:]}\"\n",
        "        draft = {\"subjek\": subjek, \"konten\": konten}\n",
        "        self.drafts.put(draft)\n",
        "        print(f\"Draft email dengan subjek '{subjek}' disimpan.\")\n",
        "\n",
        "    def lihat_draft_terakhir(self):\n",
        "        if not self.drafts.empty():\n",
        "            draft = self.drafts.queue[-1]\n",
        "            print(\"\\nDraft Email Terakhir:\")\n",
        "            print(f\"Subjek: {draft['subjek']}\")\n",
        "            print(f\"Konten: {draft['konten']}\")\n",
        "        else:\n",
        "            print(\"Tidak ada draft email yang tersimpan.\")\n",
        "\n",
        "sistem_email = HOHO()\n",
        "\n",
        "sistem_email.simpan_draft(\"Rama\", \"24500027\", \"Isi email draft 1\")\n",
        "sistem_email.simpan_draft(\"Jarkoni\", \"2350006\", \"Isi email draft 2\")\n",
        "sistem_email.simpan_draft(\"Kunto\", \"2250078\", \"Isi email draft 3\")\n",
        "\n",
        "sistem_email.lihat_draft_terakhir()"
      ],
      "metadata": {
        "colab": {
          "base_uri": "https://localhost:8080/"
        },
        "id": "rT9FqUfdkumE",
        "outputId": "8ef33a1e-fb24-4688-cc83-6c133127185a"
      },
      "execution_count": 38,
      "outputs": [
        {
          "output_type": "stream",
          "name": "stdout",
          "text": [
            "Draft email dengan subjek 'Ra27' disimpan.\n",
            "Draft email dengan subjek 'Ja06' disimpan.\n",
            "Draft email dengan subjek 'Ku78' disimpan.\n",
            "\n",
            "Draft Email Terakhir:\n",
            "Subjek: Ku78\n",
            "Konten: Isi email draft 3\n"
          ]
        }
      ]
    },
    {
      "cell_type": "code",
      "source": [
        "#Latihan 4\n",
        "class SevenEleven:\n",
        "    def __init__(self):\n",
        "        self.tiket = []\n",
        "\n",
        "    def tambah_tiket(self, bulanLahir, npm_2digit):\n",
        "        nama_film = bulanLahir[0].upper() + npm_2digit\n",
        "        self.tiket.append(nama_film)\n",
        "        print(f\"Tiket untuk film '{nama_film}' berhasil ditambahkan.\")\n",
        "\n",
        "    def proses(self):\n",
        "        if not self.is_empty():\n",
        "            print(f\"Tiket untuk film '{self.tiket.pop()}' berhasil diproses.\")\n",
        "        else:\n",
        "            print(\"Tidak ada tiket yang bisa diproses.\")\n",
        "\n",
        "    def is_empty(self):\n",
        "        return len(self.tiket) == 0\n",
        "\n",
        "tiket = SevenEleven()\n",
        "bulanLahir = 'Oktober'\n",
        "npm_2digit = '27'\n",
        "\n",
        "tiket.tambah_tiket(bulanLahir, npm_2digit)\n",
        "tiket.proses()\n",
        "tiket.proses()\n"
      ],
      "metadata": {
        "colab": {
          "base_uri": "https://localhost:8080/"
        },
        "id": "C2LsTQ2drrBP",
        "outputId": "1219c922-eed4-46cb-d29a-c6b1072fe4e5"
      },
      "execution_count": 41,
      "outputs": [
        {
          "output_type": "stream",
          "name": "stdout",
          "text": [
            "Tiket untuk film 'O27' berhasil ditambahkan.\n",
            "Tiket untuk film 'O27' berhasil diproses.\n",
            "Tidak ada tiket yang bisa diproses.\n"
          ]
        }
      ]
    }
  ]
}