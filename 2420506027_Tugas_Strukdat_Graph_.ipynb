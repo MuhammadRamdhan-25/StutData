{
  "nbformat": 4,
  "nbformat_minor": 0,
  "metadata": {
    "colab": {
      "provenance": [],
      "authorship_tag": "ABX9TyNveuylI+qSlzyuTf5gaQSF",
      "include_colab_link": true
    },
    "kernelspec": {
      "name": "python3",
      "display_name": "Python 3"
    },
    "language_info": {
      "name": "python"
    }
  },
  "cells": [
    {
      "cell_type": "markdown",
      "metadata": {
        "id": "view-in-github",
        "colab_type": "text"
      },
      "source": [
        "<a href=\"https://colab.research.google.com/github/MuhammadRamdhan-25/StutData/blob/main/2420506027_Tugas_Strukdat_Graph_.ipynb\" target=\"_parent\"><img src=\"https://colab.research.google.com/assets/colab-badge.svg\" alt=\"Open In Colab\"/></a>"
      ]
    },
    {
      "cell_type": "code",
      "source": [
        "from collections import deque\n",
        "\n",
        "# Mencetak graph tak tentu\n",
        "def print_graph(graph):\n",
        "    for node in graph:\n",
        "        print(f\"{node}: {graph[node]}\")\n",
        "\n",
        "#Fungsi Breadth First Search\n",
        "def bfs(graph, start):\n",
        "    visited = set()\n",
        "    queue = deque([start])\n",
        "\n",
        "    while queue:\n",
        "        node = queue.popleft()\n",
        "        if node not in visited:\n",
        "            print(node, end=' ')\n",
        "            visited.add(node)\n",
        "            queue.extend(neighbor for neighbor in graph[node] if neighbor not in visited)\n",
        "\n",
        "#Fungsi Depth-First Search\n",
        "def dfs(graph, start, visited=None):\n",
        "    if visited is None:\n",
        "        visited = set()\n",
        "    visited.add(start)\n",
        "    print(start, end=' ')\n",
        "\n",
        "    for neighbor in graph[start]:\n",
        "        if neighbor not in visited:\n",
        "            dfs(graph, neighbor, visited)\n",
        "\n",
        "#Fungsi mengembalikan list urutan kunjungan\n",
        "def bfs_list(graph, start):\n",
        "    visited = set()\n",
        "    queue = deque([start])\n",
        "    result = []\n",
        "\n",
        "    while queue:\n",
        "        node = queue.popleft()\n",
        "        if node not in visited:\n",
        "            result.append(node)\n",
        "            visited.add(node)\n",
        "            queue.extend(neighbor for neighbor in graph[node] if neighbor not in visited)\n",
        "\n",
        "    return result\n",
        "\n",
        "#Fungsi untuk mengembalikan satu jalur dari start ke end\n",
        "def find_path(graph, start, end, path=[]):\n",
        "    path = path + [start]\n",
        "    if start == end:\n",
        "        return path\n",
        "    if start not in graph:\n",
        "        return None\n",
        "    for node in graph[start]:\n",
        "        if node not in path:\n",
        "            new_path = find_path(graph, node, end, path)\n",
        "            if new_path:\n",
        "                return new_path\n",
        "    return None\n",
        "\n",
        "#Fungsi untuk mengecek semua simpul saling terhubung\n",
        "def is_connected(graph):\n",
        "    visited = set()\n",
        "    nodes = list(graph.keys())\n",
        "\n",
        "    def dfs(node):\n",
        "        visited.add(node)\n",
        "        for neighbor in graph[node]:\n",
        "            if neighbor not in visited:\n",
        "                dfs(neighbor)\n",
        "\n",
        "    dfs(nodes[0])\n",
        "    return len(visited) == len(nodes)\n",
        "\n",
        "#Graph tak tentu\n",
        "graph = {\n",
        "    'A': ['B'],\n",
        "    'B': ['A', 'C', 'E'],\n",
        "    'C': ['B', 'D'],\n",
        "    'D': ['C', 'E'],\n",
        "    'E': ['B', 'D']\n",
        "}\n",
        "\n",
        "print_graph(graph)\n",
        "print(\"\\nBFS dari A:\")\n",
        "bfs(graph, 'A')\n",
        "\n",
        "print(\"\\n\\nDFS dari A:\")\n",
        "dfs(graph, 'A')\n",
        "\n",
        "print(\"\\n\\nBFS List dari A:\", bfs_list(graph, 'A'))\n",
        "\n",
        "print(\"\\nPath dari A ke D:\", find_path(graph, 'A', 'D'))\n",
        "\n",
        "print(\"\\nGraph terhubung?:\", is_connected(graph))\n"
      ],
      "metadata": {
        "colab": {
          "base_uri": "https://localhost:8080/"
        },
        "id": "tPJG9frwNN3G",
        "outputId": "e14b7285-d6ca-4dc7-ff6d-7c62149760c5"
      },
      "execution_count": 9,
      "outputs": [
        {
          "output_type": "stream",
          "name": "stdout",
          "text": [
            "A: ['B']\n",
            "B: ['A', 'C', 'E']\n",
            "C: ['B', 'D']\n",
            "D: ['C', 'E']\n",
            "E: ['B', 'D']\n",
            "\n",
            "BFS dari A:\n",
            "A B C E D \n",
            "\n",
            "DFS dari A:\n",
            "A B C D E \n",
            "\n",
            "BFS List dari A: ['A', 'B', 'C', 'E', 'D']\n",
            "\n",
            "Path dari A ke D: ['A', 'B', 'C', 'D']\n",
            "\n",
            "Graph terhubung?: True\n"
          ]
        }
      ]
    }
  ]
}