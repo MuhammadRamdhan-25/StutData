{
  "nbformat": 4,
  "nbformat_minor": 0,
  "metadata": {
    "colab": {
      "provenance": [],
      "authorship_tag": "ABX9TyMD3Qqy9r706N4KelEAfQcL",
      "include_colab_link": true
    },
    "kernelspec": {
      "name": "python3",
      "display_name": "Python 3"
    },
    "language_info": {
      "name": "python"
    }
  },
  "cells": [
    {
      "cell_type": "markdown",
      "metadata": {
        "id": "view-in-github",
        "colab_type": "text"
      },
      "source": [
        "<a href=\"https://colab.research.google.com/github/MuhammadRamdhan-25/StutData/blob/main/2420506027_Tugas_Strukdat_Tree.ipynb\" target=\"_parent\"><img src=\"https://colab.research.google.com/assets/colab-badge.svg\" alt=\"Open In Colab\"/></a>"
      ]
    },
    {
      "cell_type": "code",
      "execution_count": 3,
      "metadata": {
        "colab": {
          "base_uri": "https://localhost:8080/"
        },
        "id": "ATvPnG5lkoIu",
        "outputId": "91b5fdec-793f-474b-a675-e688ada6293e"
      },
      "outputs": [
        {
          "output_type": "stream",
          "name": "stdout",
          "text": [
            "Hasil inorder traversal dari binaary Tree: \n",
            "25 5 15 27 10 "
          ]
        }
      ],
      "source": [
        "#Tugas1\n",
        "class Node:\n",
        "  def __init__(self, data):\n",
        "    self.data = data\n",
        "    self.left = None\n",
        "    self.right = None\n",
        "\n",
        "root = Node(15)\n",
        "root.left = Node(5)\n",
        "root.right = Node(27)\n",
        "root.left.left = Node(25)\n",
        "root.right.right = Node(10)\n",
        "\n",
        "def inorder(node):\n",
        "  if node:\n",
        "    inorder(node.left)\n",
        "    print(node.data, end= ' ')\n",
        "    inorder(node.right)\n",
        "\n",
        "print('Hasil inorder traversal dari binaary Tree: ')\n",
        "inorder(root)\n",
        "\n",
        "#struktur tree\n",
        "#         15\n",
        "#        /  \\\n",
        "#      5    27\n",
        "#      /       \\\n",
        "#    25         10\n"
      ]
    },
    {
      "cell_type": "code",
      "source": [
        "#Membuaut struktur tree\n",
        "class Node:\n",
        "  def __init__(self, data):\n",
        "    self.data = data\n",
        "    self.left = None\n",
        "    self.right = None\n",
        "# Fungsi Binary search untuk operasi pencarian, penyisipan, dan penghapusan data.\n",
        "class BinarySearchTree:\n",
        "  def __init__(self):\n",
        "    self.root = None\n",
        "  def insert(self, root, data):\n",
        "    if root is None:\n",
        "      return Node(data)\n",
        "    if data < root.data:\n",
        "      root.left = self.insert(root.left, data)\n",
        "    else:\n",
        "      root.right = self.insert(root.right, data)\n",
        "    return root\n",
        "\n",
        "#Fungsi inorder traversal\n",
        "  def inorder(self, node):\n",
        "    if node:\n",
        "      self.inorder(node.left)\n",
        "      print(node.data, end= ' ')\n",
        "      self.inorder(node.right)\n",
        "\n",
        "#Fungsi preorder traversal\n",
        "  def preorder(self, node):\n",
        "    if node:\n",
        "      print(node.data, end= ' ')\n",
        "      self.preorder(node.left)\n",
        "      self.preorder(node.right)\n",
        "\n",
        "#Fungsi postorder traversal\n",
        "  def postorder(self, node):\n",
        "    if node:\n",
        "      self.postorder(node.left)\n",
        "      self.postorder(node.right)\n",
        "      print(node.data, end= ' ')\n",
        "\n",
        "#Fungsi unutk mencari nilai berdasrkan key\n",
        "  def search(self, root, key):\n",
        "    if root is None or root.data == key:\n",
        "      return root\n",
        "    if root.data < key:\n",
        "      return self.search(root.right, key)\n",
        "    return self.search(root.left, key)\n",
        "\n",
        "bst = BinarySearchTree()\n",
        "root = None\n",
        "data_list = [627, 25, 10, 109, 117, 2, 3]\n",
        "for value in data_list:\n",
        "  root = bst.insert(root, value)\n",
        "\n",
        "#Menampilkan hasil inorder traversal\n",
        "print('\\nInorder Traversal:')\n",
        "bst.inorder(root)\n",
        "\n",
        "#Menampilkan hasil preorder traversal\n",
        "print('\\nPreorder Traversal:')\n",
        "bst.preorder(root)\n",
        "\n",
        "#Menampilkan hasil Postorder traversal\n",
        "print('\\nPostorder Traversal:')\n",
        "bst.postorder(root)\n",
        "\n",
        "print('\\n')\n",
        "#menampilkan pencarian berdasarkan key\n",
        "key = 27\n",
        "result = bst.search(root, key)\n",
        "print(f'\\nPencarian angka {key}: ')\n",
        "if result:\n",
        "  print(f'{key} ditemukan dalam tree')\n",
        "else:\n",
        "  print(f'{key} tidak ditemukan')\n",
        "\n",
        "key = 60\n",
        "result = bst.search(root, key)\n",
        "print(f'\\nPencarian angka {key}: ')\n",
        "if result:\n",
        "  print(f'{key} ditemukan dalam tree')\n",
        "else:\n",
        "  print(f'{key} tidak ditemukan')"
      ],
      "metadata": {
        "colab": {
          "base_uri": "https://localhost:8080/"
        },
        "id": "UKv0XH0wqrrA",
        "outputId": "92cf85e2-c153-4611-e1df-7d3dcbfe5331"
      },
      "execution_count": 8,
      "outputs": [
        {
          "output_type": "stream",
          "name": "stdout",
          "text": [
            "\n",
            "Inorder Traversal:\n",
            "2 3 10 25 109 117 627 \n",
            "Preorder Traversal:\n",
            "627 25 10 2 3 109 117 \n",
            "Postorder Traversal:\n",
            "3 2 10 117 109 25 627 \n",
            "\n",
            "\n",
            "Pencarian angka 27: \n",
            "27 tidak ditemukan\n",
            "\n",
            "Pencarian angka 60: \n",
            "60 tidak ditemukan\n"
          ]
        }
      ]
    }
  ]
}