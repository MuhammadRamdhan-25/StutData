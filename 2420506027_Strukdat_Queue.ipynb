{
  "nbformat": 4,
  "nbformat_minor": 0,
  "metadata": {
    "colab": {
      "provenance": [],
      "authorship_tag": "ABX9TyMc3VIB6yMQ2axoqlsVzvc2",
      "include_colab_link": true
    },
    "kernelspec": {
      "name": "python3",
      "display_name": "Python 3"
    },
    "language_info": {
      "name": "python"
    }
  },
  "cells": [
    {
      "cell_type": "markdown",
      "metadata": {
        "id": "view-in-github",
        "colab_type": "text"
      },
      "source": [
        "<a href=\"https://colab.research.google.com/github/MuhammadRamdhan-25/StutData/blob/main/2420506027_Strukdat_Queue.ipynb\" target=\"_parent\"><img src=\"https://colab.research.google.com/assets/colab-badge.svg\" alt=\"Open In Colab\"/></a>"
      ]
    },
    {
      "cell_type": "markdown",
      "source": [
        "Praktikum"
      ],
      "metadata": {
        "id": "W7JCzCRwzfOG"
      }
    },
    {
      "cell_type": "code",
      "execution_count": null,
      "metadata": {
        "colab": {
          "base_uri": "https://localhost:8080/"
        },
        "id": "OqxjDmk1nMhw",
        "outputId": "11489035-cb9f-4213-b8c3-5947290105bd"
      },
      "outputs": [
        {
          "output_type": "stream",
          "name": "stdout",
          "text": [
            "queue stelah enqueue : [25, 10, 12]\n",
            "Dequeue element 25\n",
            "Front queueu: 10\n",
            "Rear queueu: 12\n",
            "size queue: 2\n",
            "enqueue element: None\n",
            "queue stelah enqueue : [10, 12, 13]\n",
            "is queue empty: False\n",
            "queue terakhhir: 13\n"
          ]
        }
      ],
      "source": [
        "#Implemtasi pada list\n",
        "class quelist:\n",
        "  def __init__ (self):\n",
        "    self.queue = []\n",
        "\n",
        "  def enqueue(self,item):\n",
        "    self.queue.append(item)\n",
        "\n",
        "  def dequeue(self):\n",
        "    if not self.is_empty():\n",
        "      return self.queue.pop(0)\n",
        "    return None\n",
        "\n",
        "  def front(self):\n",
        "    return self.queue[0] if not self.is_empty()else None\n",
        "\n",
        "  def rear(self):\n",
        "    return self.queue[-1] if not self.is_empty() else None\n",
        "\n",
        "  def is_empty(self):\n",
        "    return len(self.queue) == 0\n",
        "\n",
        "  def size (self):\n",
        "    return len(self.queue)\n",
        "\n",
        "queue = quelist()\n",
        "queue.enqueue(25)\n",
        "queue.enqueue(10)\n",
        "queue.enqueue(12)\n",
        "\n",
        "print('queue stelah enqueue :',queue.queue)\n",
        "print(\"Dequeue element\",queue.dequeue())\n",
        "print('Front queueu:',queue.front())\n",
        "print('Rear queueu:',queue.rear())\n",
        "print('size queue:',queue.size())\n",
        "print('enqueue element:',queue.enqueue(13))\n",
        "print('queue stelah enqueue :',queue.queue)\n",
        "print('is queue empty:',queue.is_empty())\n",
        "print('queue terakhhir:',queue.rear())\n"
      ]
    },
    {
      "cell_type": "code",
      "source": [
        "#implemetasi menggunakan deque\n",
        "from collections import deque\n",
        "\n",
        "class queuedequeue:\n",
        "  def __init__(self):\n",
        "    self.queue = deque()\n",
        "\n",
        "  def enqueue(self, item):\n",
        "    self.queue.append(item)\n",
        "\n",
        "  def dequeue(self):\n",
        "    return self.queue.popleft() if not self.is_empty() else None\n",
        "\n",
        "  def front(self):\n",
        "    return self.queue[0] if not self.is_empty() else None\n",
        "\n",
        "  def rear(self):\n",
        "    return self.queue[-1] if not self.is_empty() else None\n",
        "\n",
        "  def is_empty(self):\n",
        "    return len(self.queue) == 0\n",
        "\n",
        "  def size(self):\n",
        "    return len(self.queue)\n",
        "\n",
        "queue = queuedequeue()\n",
        "queue.enqueue(10)\n",
        "queue.enqueue(14)\n",
        "queue.enqueue(90)\n",
        "print('queue stelah enqueue:', list(queue.queue))\n",
        "print('dequeue element',queue.dequeue())\n",
        "print('front queue',queue.front())\n",
        "print('rerar element',queue.rear())\n",
        "print('jumlah queueu',queue.size())\n",
        "print('nambah element',queue.enqueue(12))\n",
        "print('queuue setekah queueu',queue.queue)"
      ],
      "metadata": {
        "colab": {
          "base_uri": "https://localhost:8080/"
        },
        "id": "z7I7ZWFAss4-",
        "outputId": "3c861a59-9d73-43e0-c48b-ecc3f5695cc1"
      },
      "execution_count": null,
      "outputs": [
        {
          "output_type": "stream",
          "name": "stdout",
          "text": [
            "queue stelah enqueue: [10, 14, 90]\n",
            "dequeue element 10\n",
            "front queue 14\n",
            "rerar element 90\n",
            "jumlah queueu 2\n",
            "nambah element None\n",
            "queuue setekah queueu deque([14, 90, 12])\n"
          ]
        }
      ]
    },
    {
      "cell_type": "code",
      "source": [
        "#Implementasi pada queue.queue\n",
        "from queue import Queue\n",
        "\n",
        "queue = Queue()\n",
        "queue.put(15)\n",
        "queue.put(25)\n",
        "queue.put(24)\n",
        "\n",
        "print('queue size',queue.qsize())\n",
        "print('deque setalah queue',queue.get())\n",
        "print('queue stelah deque',queue.qsize())"
      ],
      "metadata": {
        "id": "zitMwZuqwKQ_",
        "colab": {
          "base_uri": "https://localhost:8080/"
        },
        "outputId": "df7a7c69-a475-4cd8-c0e3-742bb3f2566f"
      },
      "execution_count": null,
      "outputs": [
        {
          "output_type": "stream",
          "name": "stdout",
          "text": [
            "queue size 3\n",
            "deque setalh queue 15\n",
            "queue stelah deque 2\n"
          ]
        }
      ]
    },
    {
      "cell_type": "code",
      "source": [
        "#implemetasi menggunakan linked list\n",
        "class Node:\n",
        "  def __init__(self, data):\n",
        "    self.data = data\n",
        "    self.next = None\n",
        "\n",
        "class queueLinkedList:\n",
        "  def __init__(self):\n",
        "    self.front = self.rear = None\n",
        "\n",
        "  def enqueue(self, data):\n",
        "    new_node = Node(data)\n",
        "    if self.rear is None:\n",
        "      self.front = self.rear = new_node\n",
        "      return\n",
        "    self.rear.next = new_node\n",
        "    self.rear = new_node\n",
        "\n",
        "  def dequeue(self):\n",
        "    if self.front is None:\n",
        "      return None\n",
        "    dequeued_element = self.front.data\n",
        "    self.front = self.front.next\n",
        "    if self.front is None:\n",
        "      self.rear = None\n",
        "    return dequeued_element\n",
        "\n",
        "  def is_empty(self):\n",
        "    return self.front is None\n",
        "\n",
        "  def front_element(self):\n",
        "    return self.front.data if  self.front else None\n",
        "\n",
        "  def rear_element(self):\n",
        "    return self.rear.data if  self.rear else None\n",
        "\n",
        "queue = queueLinkedList()\n",
        "queue.enqueue(10)\n",
        "queue.enqueue(14)\n",
        "queue.enqueue(90)\n",
        "\n",
        "\n",
        "print('dequeued element:',queue.dequeue())\n",
        "print('front element:',queue.front_element())\n",
        "print('rear element:',queue.rear_element())\n",
        "print('is queue empty:',queue.is_empty())"
      ],
      "metadata": {
        "colab": {
          "base_uri": "https://localhost:8080/"
        },
        "id": "iwS2I6Obieh7",
        "outputId": "3cc5ef01-51fd-486c-d65d-50d412d156b3"
      },
      "execution_count": null,
      "outputs": [
        {
          "output_type": "stream",
          "name": "stdout",
          "text": [
            "dequeued element: 10\n",
            "front element: 14\n",
            "rear element: 90\n",
            "is queue empty: False\n"
          ]
        }
      ]
    },
    {
      "cell_type": "markdown",
      "source": [
        "Latihan 1"
      ],
      "metadata": {
        "id": "IQ9Ui-7MzcKm"
      }
    },
    {
      "cell_type": "code",
      "source": [
        "class AntreanBioskop:\n",
        "  def __init__(self, kapasitas= 10):\n",
        "    self.queue = []\n",
        "    self.kapasitas = kapasitas\n",
        "\n",
        "  def enqueue(self, item):\n",
        "    if len(self.queue) >= self.kapasitas:\n",
        "      print(f'Antrean penuh, maksimal {self.kapasitas} orang mohon tunggu antrean lain.')\n",
        "      return\n",
        "    if item.endswith('7'):\n",
        "      self.queue.insert(0, item)\n",
        "      print(f'Antrean VIP {item} langsung ke depan')\n",
        "    else:\n",
        "      self.queue.append(item)\n",
        "      print(f'Antrean {item} ditambahkan')\n",
        "\n",
        "\n",
        "  def dequeue(self):\n",
        "    if self.is_empty():\n",
        "      print('Antrean kosong.')\n",
        "      return None\n",
        "    servis = self.queue.pop(0)\n",
        "    print(f'Pelanggan {servis} dilayani')\n",
        "    return servis\n",
        "\n",
        "  def front(self):\n",
        "    return self.queue[0]\n",
        "\n",
        "  def rear(self):\n",
        "    return self.queue[-1]\n",
        "\n",
        "  def is_empty(self):\n",
        "    return len(self.queue) == 0\n",
        "\n",
        "  def size (self):\n",
        "    return len(self.queue)\n",
        "\n",
        "queue =AntreanBioskop(10)\n",
        "queue.enqueue('MR.01')\n",
        "queue.enqueue('MR.02')\n",
        "queue.enqueue('MR.03')\n",
        "queue.enqueue('MR.04')\n",
        "queue.enqueue('MR.05')\n",
        "queue.enqueue('MR.06')\n",
        "queue.enqueue('MR.07')\n",
        "queue.enqueue('MR.08')\n",
        "queue.enqueue('MR.09')\n",
        "queue.enqueue('MR.10')\n",
        "\n",
        "print('')\n",
        "queue.enqueue('MR.11')\n",
        "queue.enqueue('MR.12')\n",
        "\n",
        "print('')\n",
        "print('Antrean Pertama:',queue.front())\n",
        "print('Antrean Terakhir:',queue.rear())\n",
        "print('jumlah pelanggan:',queue.size())\n",
        "\n",
        "print('')\n",
        "queue.dequeue()\n",
        "queue.dequeue()\n",
        "\n",
        "print('')\n",
        "print('Antrean setelah servis',queue.queue)\n",
        "print('Antrean Pertama:',queue.front())\n",
        "print('Antrean Terakhir:',queue.rear())\n",
        "print('jumlah pelanggan:',queue.size())"
      ],
      "metadata": {
        "colab": {
          "base_uri": "https://localhost:8080/"
        },
        "id": "krS3ESZB4rE-",
        "outputId": "81f57518-dbc5-4d25-c0d0-ec68d86bb81a"
      },
      "execution_count": null,
      "outputs": [
        {
          "output_type": "stream",
          "name": "stdout",
          "text": [
            "Antrean MR.01 ditambahkan\n",
            "Antrean MR.02 ditambahkan\n",
            "Antrean MR.03 ditambahkan\n",
            "Antrean MR.04 ditambahkan\n",
            "Antrean MR.05 ditambahkan\n",
            "Antrean MR.06 ditambahkan\n",
            "Antrean VIP MR.07 langsung ke depan\n",
            "Antrean MR.08 ditambahkan\n",
            "Antrean MR.09 ditambahkan\n",
            "Antrean MR.10 ditambahkan\n",
            "\n",
            "Antrean penuh, maksimal 10 orang mohon tunggu antrean lain.\n",
            "Antrean penuh, maksimal 10 orang mohon tunggu antrean lain.\n",
            "\n",
            "Antrean Pertama: MR.07\n",
            "Antrean Terakhir: MR.10\n",
            "jumlah pelanggan: 10\n",
            "\n",
            "Pelanggan MR.07 dilayani\n",
            "Pelanggan MR.01 dilayani\n",
            "\n",
            "Antrean setelah servis ['MR.02', 'MR.03', 'MR.04', 'MR.05', 'MR.06', 'MR.08', 'MR.09', 'MR.10']\n",
            "Antrean Pertama: MR.02\n",
            "Antrean Terakhir: MR.10\n",
            "jumlah pelanggan: 8\n"
          ]
        }
      ]
    },
    {
      "cell_type": "markdown",
      "source": [
        "Latihan 1"
      ],
      "metadata": {
        "id": "WlH2stUy34Vr"
      }
    },
    {
      "cell_type": "code",
      "source": [
        "class AntreanBioskop:\n",
        "    def __init__(self, kapasitas=10):\n",
        "        self.queue = []\n",
        "        self.kapasitas = kapasitas\n",
        "\n",
        "    def enqueue(self, item):\n",
        "        if len(self.queue) >= self.kapasitas:\n",
        "            print(f'Antrean penuh, maksimal {self.kapasitas} orang. Mohon tunggu antrean lain.')\n",
        "            return\n",
        "\n",
        "        # Cek apakah item bernomor \"07\" (khusus VIP)\n",
        "        if item.endswith(\"07\"):\n",
        "            self.queue.insert(0, item)  # VIP masuk ke depan\n",
        "            print(f'Antrean VIP {item} langsung ke depan')\n",
        "        else:\n",
        "            self.queue.append(item)  # Reguler masuk ke belakang\n",
        "            print(f'Antrean {item} ditambahkan')\n",
        "\n",
        "    def dequeue(self):\n",
        "        if self.is_empty():\n",
        "            print('Antrean kosong.')\n",
        "            return None\n",
        "\n",
        "        servis = self.queue.pop(0)\n",
        "        print(f'Pelanggan {servis} dilayani')\n",
        "        return servis\n",
        "\n",
        "    def front(self):\n",
        "        if self.is_empty():\n",
        "            return None\n",
        "        return self.queue[0]\n",
        "\n",
        "    def rear(self):\n",
        "        if self.is_empty():\n",
        "            return None\n",
        "        return self.queue[-1]\n",
        "\n",
        "    def is_empty(self):\n",
        "        return len(self.queue) == 0\n",
        "\n",
        "    def size(self):\n",
        "        return len(self.queue)\n",
        "\n",
        "queue = AntreanBioskop(10)\n",
        "\n",
        "queue.enqueue('MR.01')\n",
        "queue.enqueue('MR.02')\n",
        "queue.enqueue('MR.03')\n",
        "queue.enqueue('MR.04')\n",
        "queue.enqueue('MR.05')\n",
        "queue.enqueue('MR.06')\n",
        "queue.enqueue('MR.07')\n",
        "queue.enqueue('MR.08')\n",
        "queue.enqueue('MR.09')\n",
        "queue.enqueue('MR.10')\n",
        "\n",
        "print('')\n",
        "queue.enqueue('MR.11')\n",
        "queue.enqueue('MR.12')\n",
        "\n",
        "print('')\n",
        "print('Antrean Pertama:', queue.front())\n",
        "print('Antrean Terakhir:', queue.rear())\n",
        "print('Jumlah pelanggan:', queue.size())\n",
        "\n",
        "print('')\n",
        "queue.dequeue()\n",
        "queue.dequeue()\n",
        "\n",
        "print('')\n",
        "print('Antrean Setelah Pelayanan:', queue.queue)\n",
        "print('Antrean Pertama:', queue.front())\n",
        "print('Antrean Terakhir:', queue.rear())\n",
        "print('Jumlah pelanggan:', queue.size())\n"
      ],
      "metadata": {
        "colab": {
          "base_uri": "https://localhost:8080/"
        },
        "id": "k5haIH8gFay6",
        "outputId": "2182818a-3201-4f77-939c-264131d79c6c"
      },
      "execution_count": null,
      "outputs": [
        {
          "output_type": "stream",
          "name": "stdout",
          "text": [
            "Antrean MR.01 ditambahkan\n",
            "Antrean MR.02 ditambahkan\n",
            "Antrean MR.03 ditambahkan\n",
            "Antrean MR.04 ditambahkan\n",
            "Antrean MR.05 ditambahkan\n",
            "Antrean MR.06 ditambahkan\n",
            "Antrean VIP MR.07 langsung ke depan\n",
            "Antrean MR.08 ditambahkan\n",
            "Antrean MR.09 ditambahkan\n",
            "Antrean MR.10 ditambahkan\n",
            "\n",
            "Antrean penuh, maksimal 10 orang. Mohon tunggu antrean lain.\n",
            "Antrean penuh, maksimal 10 orang. Mohon tunggu antrean lain.\n",
            "\n",
            "Antrean Pertama: MR.07\n",
            "Antrean Terakhir: MR.10\n",
            "Jumlah pelanggan: 10\n",
            "\n",
            "Pelanggan MR.07 dilayani\n",
            "Pelanggan MR.01 dilayani\n",
            "\n",
            "Antrean Setelah Pelayanan: ['MR.02', 'MR.03', 'MR.04', 'MR.05', 'MR.06', 'MR.08', 'MR.09', 'MR.10']\n",
            "Antrean Pertama: MR.02\n",
            "Antrean Terakhir: MR.10\n",
            "Jumlah pelanggan: 8\n"
          ]
        }
      ]
    },
    {
      "cell_type": "markdown",
      "source": [
        "Latihan 2"
      ],
      "metadata": {
        "id": "KSMysy-L36mr"
      }
    },
    {
      "cell_type": "code",
      "source": [
        "class Fotokopi:\n",
        "  def __init__(self):\n",
        "    self.queue = []\n",
        "\n",
        "  def enqueue(self, order_id, num_pages):\n",
        "    if num_pages < 10:\n",
        "      self.queue.insert(0, (order_id, num_pages))\n",
        "      print(f\"Pesanan {order_id} dengan jumlah {num_pages} langsung diproses (Fast Track)\")\n",
        "    else:\n",
        "      self.queue.append((order_id, num_pages))\n",
        "      print(f\"Pesanan {order_id} dengan jumlah {num_pages} ditambahkan di antrean\")\n",
        "\n",
        "  def dequeue(self):\n",
        "    if not self.is_empty():\n",
        "      order_id, num_pages = self.queue.pop(0)\n",
        "      if num_pages > 100:\n",
        "          print(f\"Pesanan {order_id} tahap pertama selesai. Silakan menunggu tahap kedua\")\n",
        "          self.queue.append((order_id, num_pages - 100))\n",
        "      else:\n",
        "          print(f\"Pesanan {order_id} yang berjumlah {num_pages} telah selesai diproses\")\n",
        "    else:\n",
        "      print(\"Antrean Kosong\")\n",
        "\n",
        "  def front(self):\n",
        "    if not self.is_empty():\n",
        "      return self.queue[0]\n",
        "    else:\n",
        "      return None\n",
        "\n",
        "  def rear(self):\n",
        "    if not self.is_empty():\n",
        "      return self.queue[-1]\n",
        "    else:\n",
        "      return None\n",
        "\n",
        "  def is_empty(self):\n",
        "    return len(self.queue) == 0\n",
        "\n",
        "  def size(self):\n",
        "    return len(self.queue)\n",
        "\n",
        "if __name__ == '__main__':\n",
        "  queue = Fotokopi()\n",
        "  queue.enqueue(\"RAM27\", 25)\n",
        "  queue.enqueue(\"MAS28\", 115)\n",
        "  queue.enqueue(\"KHA29\", 5)\n",
        "  queue.enqueue(\"DON30\", 50)\n",
        "  print('')\n",
        "  print(\"Pesanan Pertama:\", queue.front())\n",
        "  print(\"Pesanan Terakhir:\", queue.rear())\n",
        "  print(\"Jumlah pesanan sekarang:\", queue.size())\n",
        "  print('')\n",
        "  queue.dequeue()\n",
        "  print(\"Jumlah pesanan sekarang:\", queue.size())\n"
      ],
      "metadata": {
        "colab": {
          "base_uri": "https://localhost:8080/"
        },
        "id": "6pAswBK5TLIa",
        "outputId": "2630adb1-1f20-44d0-d7f2-5f7eb297ef7c"
      },
      "execution_count": 4,
      "outputs": [
        {
          "output_type": "stream",
          "name": "stdout",
          "text": [
            "Pesanan RAM27 dengan jumlah 25 ditambahkan di antrean\n",
            "Pesanan MAS28 dengan jumlah 115 ditambahkan di antrean\n",
            "Pesanan KHA29 dengan jumlah 5 langsung diproses (Fast Track)\n",
            "Pesanan DON30 dengan jumlah 50 ditambahkan di antrean\n",
            "\n",
            "Pesanan Pertama: ('KHA29', 5)\n",
            "Pesanan Terakhir: ('DON30', 50)\n",
            "Jumlah pesanan sekarang: 4\n",
            "\n",
            "Pesanan KHA29 yang berjumlah 5 telah selesai diproses\n",
            "Jumlah pesanan sekarang: 3\n"
          ]
        }
      ]
    },
    {
      "cell_type": "code",
      "source": [
        "class Fotokopi:\n",
        "  def __init__(self):\n",
        "    self.queue = []\n",
        "\n",
        "  def enqueue(self, order_id, num_pages):\n",
        "    if num_pages < 10:\n",
        "      self.queue.insert(0,(order_id, num_pages))\n",
        "      print(f\"Pesanan {order_id} dengan jumlah {num_pages} langsung diproses(Fast Track)\")\n",
        "    else:\n",
        "      self.queue.append((order_id, num_pages))\n",
        "      print(f\"Pesanan {order_id} dengan jumlah {num_pages} ditambahkan di antrean\")\n",
        "\n",
        "  def dequeue(self):\n",
        "    if not self.is_empty():\n",
        "      order_id, num_pages = self.queue.pop(0)\n",
        "      if num_pages > 100:\n",
        "          print(f\"Pesanan {order_id} tahap pertama selesai. Silahkan Menunggu tahap kedua\")\n",
        "          self.queue.append((order_id, num_pages - 100))\n",
        "      else:\n",
        "          print(f\"Pesanan {order_id} yang berjumlah {num_pages} telah selesai diproses\")\n",
        "    else:\n",
        "      print(\"Antrean Kosong\")\n",
        "\n",
        "  def front(self):\n",
        "    if not self.is_empty():\n",
        "      return self.queue[0]\n",
        "    else:\n",
        "      return None\n",
        "\n",
        "  def rear(self):\n",
        "    if not self.is_empty():\n",
        "      return self.queue[-1]\n",
        "    else:\n",
        "      return None\n",
        "\n",
        "  def is_empty(self):\n",
        "    return len(self.queue) == 0\n",
        "\n",
        "  def size(self):\n",
        "    return len(self.queue)\n",
        "\n",
        "if __name__ == '__main__':\n",
        "  queue = Fotokopi()\n",
        "  queue.enqueue(\"RAM27\",25)\n",
        "  queue.enqueue(\"MAS28\",115)\n",
        "  queue.enqueue(\"KHA29\",5)\n",
        "  queue.enqueue(\"DON30\",50)\n",
        "  print('')\n",
        "  print(\"Pesanan Pertama:\", queue.front())\n",
        "  print(\"Pesanan Terakhir:\", queue.rear())\n",
        "  print(\"Jumlah pesanan sekarang:\", queue.size())\n",
        "  print('')\n",
        "  queue.dequeue()\n",
        "  print(\"Jumlah pesanan sekarang:\", queue.size())"
      ],
      "metadata": {
        "colab": {
          "base_uri": "https://localhost:8080/"
        },
        "id": "sKzl4GJp38ME",
        "outputId": "564d1774-228d-4c5c-d133-2dad226b7ff2"
      },
      "execution_count": 8,
      "outputs": [
        {
          "output_type": "stream",
          "name": "stdout",
          "text": [
            "Pesanan RAM27 dengan jumlah 25 ditambahkan di antrean\n",
            "Pesanan MAS28 dengan jumlah 115 ditambahkan di antrean\n",
            "Pesanan KHA29 dengan jumlah 5 langsung diproses(Fast Track)\n",
            "Pesanan DON30 dengan jumlah 50 ditambahkan di antrean\n",
            "\n",
            "Pesanan Pertama: ('KHA29', 5)\n",
            "Pesanan Terakhir: ('DON30', 50)\n",
            "Jumlah pesanan sekarang: 4\n",
            "\n",
            "Pesanan KHA29 yang berjumlah 5 telah selesai diproses\n",
            "Jumlah pesanan sekarang: 3\n"
          ]
        }
      ]
    },
    {
      "cell_type": "code",
      "source": [
        "class ParkingQueue:\n",
        "    def __init__(self, capacity=15):\n",
        "        self.queue = []\n",
        "        self.capacity = capacity\n",
        "\n",
        "    def enqueue(self, vehicle_number, eco_friendly=False):\n",
        "        if self.size() >= self.capacity:\n",
        "            print(\"Parkiran penuh. Harap tunggu hingga ada kendaraan yang keluar.\")\n",
        "            return\n",
        "        if eco_friendly:\n",
        "            self.queue.insert(0, vehicle_number)\n",
        "            print(f\"Kendaraan {vehicle_number} ditambahkan ke parkiran (Prioritas).\")\n",
        "        else:\n",
        "            self.queue.append(vehicle_number)\n",
        "            print(f\"Kendaraan {vehicle_number} ditambahkan ke parkiran.\")\n",
        "\n",
        "\n",
        "    def dequeue(self):\n",
        "        if not self.is_empty():\n",
        "            vehicle_number = self.queue.pop(0)\n",
        "            print(f\"Kendaraan {vehicle_number} keluar dari parkiran.\")\n",
        "            return vehicle_number\n",
        "        else:\n",
        "            print(\"Parkiran kosong.\")\n",
        "            return None\n",
        "\n",
        "    def front(self):\n",
        "        return self.queue[0] if not self.is_empty() else None\n",
        "\n",
        "    def rear(self):\n",
        "        return self.queue[-1] if not self.is_empty() else None\n",
        "\n",
        "    def is_empty(self):\n",
        "        return len(self.queue) == 0\n",
        "\n",
        "    def size(self):\n",
        "        return len(self.queue)\n",
        "\n",
        "\n",
        "if __name__ == \"__main__\":\n",
        "    parkiran = ParkingQueue()\n",
        "    parkiran.enqueue(\"TM27\")\n",
        "    parkiran.enqueue(\"BA28\", eco_friendly=True)\n",
        "    parkiran.enqueue(\"SO29\")\n",
        "    print(\"Kendaraan pertama:\", parkiran.front())\n",
        "    print(\"Kendaraan terakhir:\", parkiran.rear())\n",
        "    print(\"Jumlah kendaraan:\", parkiran.size())\n",
        "    parkiran.dequeue()\n",
        "    print(\"Jumlah kendaraan setelah keluar:\", parkiran.size())\n"
      ],
      "metadata": {
        "colab": {
          "base_uri": "https://localhost:8080/"
        },
        "id": "pl7cf2t3RBVl",
        "outputId": "62dcd392-39fc-46f5-829f-4268d3503939"
      },
      "execution_count": 10,
      "outputs": [
        {
          "output_type": "stream",
          "name": "stdout",
          "text": [
            "Kendaraan TM27 ditambahkan ke parkiran.\n",
            "Kendaraan BA28 ditambahkan ke parkiran (Prioritas).\n",
            "Kendaraan SO29 ditambahkan ke parkiran.\n",
            "Kendaraan pertama: BA28\n",
            "Kendaraan terakhir: SO29\n",
            "Jumlah kendaraan: 3\n",
            "Kendaraan BA28 keluar dari parkiran.\n",
            "Jumlah kendaraan setelah keluar: 2\n"
          ]
        }
      ]
    },
    {
      "cell_type": "code",
      "source": [
        "class CertificateQueue:\n",
        "    def __init__(self):\n",
        "        self.regular_queue = []\n",
        "        self.achievement_queue = []\n",
        "\n",
        "    def enqueue(self, student_id, national_competition=False):\n",
        "        if national_competition:\n",
        "            print(f\"Mahasiswa {student_id} langsung mengambil sertifikat tanpa antre.\")\n",
        "            return\n",
        "        if self.size() >= 20:\n",
        "            self.achievement_queue.append(student_id)\n",
        "            print(f\"Mahasiswa {student_id} ditambahkan ke jalur mahasiswa berprestasi.\")\n",
        "        else:\n",
        "            self.regular_queue.append(student_id)\n",
        "            print(f\"Mahasiswa {student_id} ditambahkan ke jalur reguler.\")\n",
        "\n",
        "    def dequeue(self):\n",
        "        if not self.is_empty():\n",
        "            if self.achievement_queue:\n",
        "                student_id = self.achievement_queue.pop(0)\n",
        "                print(f\"Mahasiswa {student_id} dari jalur berprestasi dilayani.\")\n",
        "                return student_id\n",
        "            else:\n",
        "                student_id = self.regular_queue.pop(0)\n",
        "                print(f\"Mahasiswa {student_id} dari jalur reguler dilayani.\")\n",
        "                return student_id\n",
        "        else:\n",
        "            print(\"Antrian kosong.\")\n",
        "            return None\n",
        "\n",
        "    def front(self):\n",
        "        if self.achievement_queue:\n",
        "            return self.achievement_queue[0]\n",
        "        elif self.regular_queue:\n",
        "            return self.regular_queue[0]\n",
        "        return None\n",
        "\n",
        "    def rear(self):\n",
        "        if self.regular_queue:\n",
        "            return self.regular_queue[-1]\n",
        "        elif self.achievement_queue:\n",
        "            return self.achievement_queue[-1]\n",
        "        return None\n",
        "\n",
        "\n",
        "    def is_empty(self):\n",
        "        return len(self.regular_queue) == 0 and len(self.achievement_queue) == 0\n",
        "\n",
        "    def size(self):\n",
        "        return len(self.regular_queue) + len(self.achievement_queue)\n",
        "\n",
        "if __name__ == \"__main__\":\n",
        "    sertifikat_queue = CertificateQueue()\n",
        "    sertifikat_queue.enqueue(\"TIF27\", national_competition=True)\n",
        "    sertifikat_queue.enqueue(\"TM28\")\n",
        "    sertifikat_queue.enqueue(\"TI29\")\n",
        "    sertifikat_queue.enqueue(\"TE30\", national_competition=False)\n",
        "    print(\"Mahasiswa pertama:\", sertifikat_queue.front())\n",
        "    print(\"Mahasiswa terakhir:\", sertifikat_queue.rear())\n",
        "    print(\"Jumlah mahasiswa:\", sertifikat_queue.size())\n",
        "    sertifikat_queue.dequeue()\n",
        "    print(\"Jumlah mahasiswa setelah keluar:\", sertifikat_queue.size())\n"
      ],
      "metadata": {
        "id": "80YhoQDVR7X8",
        "outputId": "44a3bd63-f398-4bf6-e868-c43d7d805e26",
        "colab": {
          "base_uri": "https://localhost:8080/"
        }
      },
      "execution_count": 11,
      "outputs": [
        {
          "output_type": "stream",
          "name": "stdout",
          "text": [
            "Mahasiswa TIF27 langsung mengambil sertifikat tanpa antre.\n",
            "Mahasiswa TM28 ditambahkan ke jalur reguler.\n",
            "Mahasiswa TI29 ditambahkan ke jalur reguler.\n",
            "Mahasiswa TE30 ditambahkan ke jalur reguler.\n",
            "Mahasiswa pertama: TM28\n",
            "Mahasiswa terakhir: TE30\n",
            "Jumlah mahasiswa: 3\n",
            "Mahasiswa TM28 dari jalur reguler dilayani.\n",
            "Jumlah mahasiswa setelah keluar: 2\n"
          ]
        }
      ]
    }
  ]
}