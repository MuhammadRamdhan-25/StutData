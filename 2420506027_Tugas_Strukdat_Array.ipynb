{
  "nbformat": 4,
  "nbformat_minor": 0,
  "metadata": {
    "colab": {
      "provenance": [],
      "authorship_tag": "ABX9TyMd0/6tXiNhVLSz5J3MXXsy",
      "include_colab_link": true
    },
    "kernelspec": {
      "name": "python3",
      "display_name": "Python 3"
    },
    "language_info": {
      "name": "python"
    }
  },
  "cells": [
    {
      "cell_type": "markdown",
      "metadata": {
        "id": "view-in-github",
        "colab_type": "text"
      },
      "source": [
        "<a href=\"https://colab.research.google.com/github/MuhammadRamdhan-25/StutData/blob/main/2420506027_Tugas_Strukdat_Array.ipynb\" target=\"_parent\"><img src=\"https://colab.research.google.com/assets/colab-badge.svg\" alt=\"Open In Colab\"/></a>"
      ]
    },
    {
      "cell_type": "code",
      "source": [
        "import random as pok #menggunakan library random as pok\n",
        "\n",
        "size =int(input(\"Masukkan ukuran peta: \"))#ukuran peta\n",
        "\n",
        "treasure_map = [\"_\" for _ in range(size)]#memmbuat peta dengan harta karun tersembunyi\n",
        "\n",
        "treasure_index = pok.randint(0, size-1) #menginput lokasi yang dimasukkan user\n",
        "treasure_map[treasure_index] = \"X\" #Menyembunyikan harta karun di lokasi yang dipilh\n",
        "\n",
        "\n",
        "def play_treasure_hunt(): #fungsi memulai permainan\n",
        "  print(\"\\nKekayaan dan harta karunku? Jika kau menginginkannya, kau bisa memilikinya! Carilah\")\n",
        "  print(\"Berusahalah untuk tidak direbut pemain lain!\")\n",
        "\n",
        "\n",
        "  while True:   #loop permainan\n",
        "    print(\"\\nPeta saat ini\", [\"_\" for _ in range(size)])  #menampilkan peta tersembunyi kepada pemain\n",
        "\n",
        "    #input pemain\n",
        "    try:\n",
        "       guess = int(input(f\"Masukkan tebakanmu (0-{size-1}): \"))\n",
        "    except ValueError:\n",
        "       print(\"Masukkan angka yang valid.\")\n",
        "    if guess < 0 or guess >= size:\n",
        "        print(\"Indeks tidak valid, pilih antara 0 hingga\", size-1)\n",
        "        continue\n",
        "    if treasure_map[guess] == \"X\":\n",
        "        print(\"Hahaha kau menmukannya dikoordinat:\", guess)\n",
        "        break\n",
        "    else:\n",
        "        print(\"Tidak ada apapun disini. Cari ditempat lain!\")\n",
        "  print(\"Akhirnya aku bisa tenang\")\n",
        "\n",
        "play_treasure_hunt()"
      ],
      "metadata": {
        "colab": {
          "base_uri": "https://localhost:8080/"
        },
        "id": "lMTgJiUml_ct",
        "outputId": "95b62c95-8acd-4077-972b-cf4bcf9a8c83"
      },
      "execution_count": null,
      "outputs": [
        {
          "output_type": "stream",
          "name": "stdout",
          "text": [
            "Masukkan ukuran peta: 10\n",
            "\n",
            "Kekayaan dan harta karunku? Jika kau menginginkannya, kau bisa memilikinya! Carilah\n",
            "Berusahalah untuk tidak direbut pemain lain!\n",
            "\n",
            "Peta saat ini ['_', '_', '_', '_', '_', '_', '_', '_', '_', '_']\n",
            "Masukkan tebakanmu (0-9): 9\n",
            "Tidak ada apapun disini. Cari ditempat lain!\n",
            "\n",
            "Peta saat ini ['_', '_', '_', '_', '_', '_', '_', '_', '_', '_']\n",
            "Masukkan tebakanmu (0-9): 1\n",
            "Tidak ada apapun disini. Cari ditempat lain!\n",
            "\n",
            "Peta saat ini ['_', '_', '_', '_', '_', '_', '_', '_', '_', '_']\n",
            "Masukkan tebakanmu (0-9): 0\n",
            "Tidak ada apapun disini. Cari ditempat lain!\n",
            "\n",
            "Peta saat ini ['_', '_', '_', '_', '_', '_', '_', '_', '_', '_']\n",
            "Masukkan tebakanmu (0-9): 5\n",
            "Hahaha kau menmukannya dikoordinat: 5\n",
            "Akhirnya aku bisa tenang\n"
          ]
        }
      ]
    }
  ]
}