{
  "nbformat": 4,
  "nbformat_minor": 0,
  "metadata": {
    "colab": {
      "provenance": [],
      "authorship_tag": "ABX9TyMiyqCkcfI8bW03TKQB2kxZ",
      "include_colab_link": true
    },
    "kernelspec": {
      "name": "python3",
      "display_name": "Python 3"
    },
    "language_info": {
      "name": "python"
    }
  },
  "cells": [
    {
      "cell_type": "markdown",
      "metadata": {
        "id": "view-in-github",
        "colab_type": "text"
      },
      "source": [
        "<a href=\"https://colab.research.google.com/github/MuhammadRamdhan-25/StutData/blob/main/2420506027_Tugas_Strukdat_Sorting.ipynb\" target=\"_parent\"><img src=\"https://colab.research.google.com/assets/colab-badge.svg\" alt=\"Open In Colab\"/></a>"
      ]
    },
    {
      "cell_type": "markdown",
      "source": [
        "Tugas Optimasi Pencarian Peoduk di Marketplace(berdasrkan harga dan rating)"
      ],
      "metadata": {
        "id": "pOAR6Fbfk_wP"
      }
    },
    {
      "cell_type": "code",
      "execution_count": 36,
      "metadata": {
        "colab": {
          "base_uri": "https://localhost:8080/"
        },
        "id": "qH6erz46WbAB",
        "outputId": "c53a4ef5-8d8c-42f7-ab48-cf7110608102"
      },
      "outputs": [
        {
          "output_type": "stream",
          "name": "stdout",
          "text": [
            "Daftar Laptop yang Tersedia Berdasarkan Harga(Murah-Mahal)\n",
            "Laptop Acer - Harga: Rp.10,000,000\n",
            "Laptop MSI - Harga: Rp.11,500,000\n",
            "Laptop Lenovo - Harga: Rp.12,000,000\n",
            "Laptop Axioo Pongo - Harga: Rp.14,500,000\n",
            "Laptop HP - Harga: Rp.15,000,000\n",
            "\n",
            "==================================================\n",
            "\n",
            "Daftar Laptop yang Tersedia Berdasarkan Rating(Rendah-Tinggi)\n",
            "Laptop Acer - Rating: 2.5\n",
            "Laptop MSI - Rating: 3.0\n",
            "Laptop Axioo Pongo - Rating: 3.6\n",
            "Laptop Lenovo - Rating: 4.2\n",
            "Laptop HP - Rating: 4.5\n"
          ]
        }
      ],
      "source": [
        "def merge_sort_produk(produk, key, descending=False):\n",
        "  if len(produk) > 1:\n",
        "    mid = len(produk) //2\n",
        "    left_half = produk [:mid]\n",
        "    right_half = produk [mid:]\n",
        "\n",
        "    merge_sort_produk(left_half, key, descending)\n",
        "    merge_sort_produk(right_half, key, descending)\n",
        "\n",
        "    i = j = k = 0\n",
        "\n",
        "    while i < len(left_half) and j < len(right_half):\n",
        "       if (left_half[i][key] < right_half[j][key]) if not descending else (left_half[i][key] > right_half[j][key]):\n",
        "           produk[k] = left_half[i]\n",
        "           i += 1\n",
        "       else:\n",
        "           produk[k] = right_half[j]\n",
        "           j += 1\n",
        "       k +=1\n",
        "\n",
        "    while i < len(left_half):\n",
        "        produk[k] = left_half[i]\n",
        "        i += 1\n",
        "        k += 1\n",
        "\n",
        "    while j <len(right_half):\n",
        "       produk[k] = right_half[j]\n",
        "       j += 1\n",
        "       k += 1\n",
        "  return produk\n",
        "\n",
        "produk = [\n",
        "    {'nama': 'Laptop HP', 'Harga': 15000000,'rating':4.5},\n",
        "    {'nama': 'Laptop Axioo Pongo','Harga':14500000,'rating': 3.6},\n",
        "    {'nama': 'Laptop MSI','Harga': 11500000,'rating': 3.0},\n",
        "    {'nama': 'Laptop Lenovo','Harga': 12000000,'rating': 4.2},\n",
        "    {'nama': 'Laptop Acer','Harga': 10000000,'rating': 2.5}\n",
        "\n",
        "]\n",
        "\n",
        "sorted_by_harga = merge_sort_produk(produk.copy(), 'Harga')\n",
        "sorted_by_rating = merge_sort_produk(produk.copy(), 'rating')\n",
        "\n",
        "\n",
        "print('Daftar Laptop yang Tersedia Berdasarkan Harga(Murah-Mahal)')\n",
        "for p in sorted_by_harga:\n",
        "    print(f\"{p['nama']} - Harga: Rp.{p['Harga']:,}\")\n",
        "\n",
        "print('\\n' + '='*50 + '\\n')\n",
        "\n",
        "print('Daftar Laptop yang Tersedia Berdasarkan Rating(Rendah-Tinggi)')\n",
        "for p in sorted_by_rating:\n",
        "  print(f\"{p['nama']} - Rating: {p['rating']}\")"
      ]
    }
  ]
}