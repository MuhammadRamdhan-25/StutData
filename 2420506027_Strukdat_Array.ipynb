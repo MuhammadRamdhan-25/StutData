{
  "nbformat": 4,
  "nbformat_minor": 0,
  "metadata": {
    "colab": {
      "provenance": [],
      "authorship_tag": "ABX9TyMiF5PEY0pPb/9kX2ai/Q9a",
      "include_colab_link": true
    },
    "kernelspec": {
      "name": "python3",
      "display_name": "Python 3"
    },
    "language_info": {
      "name": "python"
    }
  },
  "cells": [
    {
      "cell_type": "markdown",
      "metadata": {
        "id": "view-in-github",
        "colab_type": "text"
      },
      "source": [
        "<a href=\"https://colab.research.google.com/github/MuhammadRamdhan-25/StutData/blob/main/2420506027_Strukdat_Array.ipynb\" target=\"_parent\"><img src=\"https://colab.research.google.com/assets/colab-badge.svg\" alt=\"Open In Colab\"/></a>"
      ]
    },
    {
      "cell_type": "code",
      "source": [
        "#Latihan1\n",
        "\n",
        "Npm = [2420506023,2420506024,2420506025,2420506026,2420506027]\n",
        "\n",
        "print(\"Npm saya :\",Npm[-1])\n",
        "print(f\"Npm sebelum Npm saya:\\n{Npm[-2]},\\n{Npm[-3]},\\n{Npm[-4]},\\n{Npm[-5]}\")"
      ],
      "metadata": {
        "colab": {
          "base_uri": "https://localhost:8080/"
        },
        "id": "lKzFbWysstJQ",
        "outputId": "0430048a-c05f-417e-cf92-f3a5eecaaeb9"
      },
      "execution_count": null,
      "outputs": [
        {
          "output_type": "stream",
          "name": "stdout",
          "text": [
            "Npm saya : 2420506027\n",
            "Npm sebelum Npm saya:\n",
            "2420506026,\n",
            "2420506025,\n",
            "2420506024,\n",
            "2420506023\n"
          ]
        }
      ]
    },
    {
      "cell_type": "code",
      "source": [
        "#Latihan 2\n",
        "Npm = [23,24,25,26]\n",
        "Npm.insert(4,27)\n",
        "print(\"Array setelah ditambah :\",Npm)\n",
        "Npm.pop(0)\n",
        "print(\"Array setelah dihapus :\",Npm)"
      ],
      "metadata": {
        "colab": {
          "base_uri": "https://localhost:8080/"
        },
        "id": "5yHJNotR1ih_",
        "outputId": "33443f9f-1ed9-4e11-9ec3-9c376cb82f93"
      },
      "execution_count": null,
      "outputs": [
        {
          "output_type": "stream",
          "name": "stdout",
          "text": [
            "Array setelah ditambah : [23, 24, 25, 26, 27]\n",
            "Array setelah dihapus : [24, 25, 26, 27]\n"
          ]
        }
      ]
    },
    {
      "cell_type": "code",
      "source": [
        "#Latihan3\n",
        "Fakultas = ['PERTANIAN','TEKNIK','EKONOMI','FISIPOL','FKIP']\n",
        "\n",
        "for i in Fakultas:\n",
        "  print(\"Nama Fakultas:\",i)\n"
      ],
      "metadata": {
        "colab": {
          "base_uri": "https://localhost:8080/"
        },
        "id": "J9bCn_QI4wRH",
        "outputId": "dc660942-d65c-423c-f96a-3dbcfcd56f5a"
      },
      "execution_count": null,
      "outputs": [
        {
          "output_type": "stream",
          "name": "stdout",
          "text": [
            "Nama Fakultas: PERTANIAN\n",
            "Nama Fakultas: TEKNIK\n",
            "Nama Fakultas: EKONOMI\n",
            "Nama Fakultas: FISIPOL\n",
            "Nama Fakultas: FKIP\n"
          ]
        }
      ]
    },
    {
      "cell_type": "code",
      "source": [
        "#Latihan4\n",
        "harga_barang = [17000,10000,5000,3000]\n",
        "\n",
        "print(\"Harga total barang:\",sum(harga_barang))\n",
        "print(\"Harga tertinggi:\",max(harga_barang))\n",
        "print(\"Harga terendah:\",min(harga_barang))"
      ],
      "metadata": {
        "colab": {
          "base_uri": "https://localhost:8080/"
        },
        "id": "IVutj6RE__-B",
        "outputId": "cb43e5d2-97df-4f98-ee59-66e94c5c18e8"
      },
      "execution_count": null,
      "outputs": [
        {
          "output_type": "stream",
          "name": "stdout",
          "text": [
            "Harga  total barang: 35000\n",
            "Harga tertinggi: 17000\n",
            "Harga terendah: 3000\n"
          ]
        }
      ]
    },
    {
      "cell_type": "code",
      "source": [
        "#Latihan5\n",
        "matriks = [\n",
        "    [2,4,6,9],\n",
        "    [1,3,5,4],\n",
        "    [7,8,9,10]\n",
        "]\n",
        "print(\"Isi array matriks:\")\n",
        "for i in matriks:\n",
        "  print(i)"
      ],
      "metadata": {
        "colab": {
          "base_uri": "https://localhost:8080/"
        },
        "id": "mXdG5Yfd_tr6",
        "outputId": "f0405adc-dbd8-43c3-c85e-f4edd0e7061b"
      },
      "execution_count": 1,
      "outputs": [
        {
          "output_type": "stream",
          "name": "stdout",
          "text": [
            "Isi array matriks:\n",
            "[2, 4, 6, 9]\n",
            "[1, 3, 5, 4]\n",
            "[7, 8, 9, 10]\n"
          ]
        }
      ]
    },
    {
      "cell_type": "code",
      "source": [
        "#Latihan6\n",
        "matriks = [\n",
        "    [2,4,6,9],\n",
        "    [1,3,5,4],\n",
        "    [7,8,9,10]\n",
        "]\n",
        "print(\"Elemen pada baris 2, kolom 4 dari array 2 dimensi:\",matriks[1][3])"
      ],
      "metadata": {
        "colab": {
          "base_uri": "https://localhost:8080/"
        },
        "id": "dEEr2OqHCGNc",
        "outputId": "03e7c898-7ba8-49f6-e7f8-2052a4af604c"
      },
      "execution_count": null,
      "outputs": [
        {
          "output_type": "stream",
          "name": "stdout",
          "text": [
            "Elemen pada baris 2, kolom 4 dari array 2 dimensi: 4\n"
          ]
        }
      ]
    },
    {
      "cell_type": "code",
      "source": [
        "#Latihan7\n",
        "matriks = [\n",
        "    [2,4,6,9],\n",
        "    [1,3,5,4],\n",
        "    [7,8,9,10]\n",
        "]\n",
        "\n",
        "matriks.append([25,10,20,5])\n",
        "print(\"Array setelah ditambah:\")\n",
        "for i in matriks:\n",
        "  print(i)"
      ],
      "metadata": {
        "colab": {
          "base_uri": "https://localhost:8080/"
        },
        "id": "vUKlptvsDgJG",
        "outputId": "0f38e1b1-c753-4c28-de43-93ff8ca35eae"
      },
      "execution_count": null,
      "outputs": [
        {
          "output_type": "stream",
          "name": "stdout",
          "text": [
            "Array setelah ditambah:\n",
            "[2, 4, 6, 9]\n",
            "[1, 3, 5, 4]\n",
            "[7, 8, 9, 10]\n",
            "[25, 10, 20, 5]\n"
          ]
        }
      ]
    },
    {
      "cell_type": "code",
      "source": [
        "#Latihan 8\n",
        "matriks = [\n",
        "    [53, 65, 83],\n",
        "    [72, 66, 61],\n",
        "    [9, 25, 18]\n",
        "]\n",
        "matriks[2].pop(2)\n",
        "print(\"Array setelah dihapus:\")\n",
        "for i in matriks:\n",
        "  print(i)"
      ],
      "metadata": {
        "id": "_2tWra2XHGX3",
        "colab": {
          "base_uri": "https://localhost:8080/"
        },
        "outputId": "cfbd7bcb-57cd-45f7-8873-8986d8e05a87"
      },
      "execution_count": null,
      "outputs": [
        {
          "output_type": "stream",
          "name": "stdout",
          "text": [
            "Array setelah dihapus:\n",
            "[53, 65, 83]\n",
            "[72, 66, 61]\n",
            "[9, 25]\n"
          ]
        }
      ]
    },
    {
      "cell_type": "code",
      "source": [
        "#Latihan 9\n",
        "matriks = [\n",
        "    [2,4,6,9],\n",
        "    [1,3,5,4],\n",
        "    [7,8,9,10]\n",
        "]\n",
        "matriks[2][3] = 18\n",
        "print(\"Array setelah diubah tanggal hari ini:\")\n",
        "for i in matriks:\n",
        "  print(i)"
      ],
      "metadata": {
        "colab": {
          "base_uri": "https://localhost:8080/"
        },
        "id": "oBd2ek14nI5i",
        "outputId": "eceec47c-aa2c-4905-d66e-fb680a916185"
      },
      "execution_count": null,
      "outputs": [
        {
          "output_type": "stream",
          "name": "stdout",
          "text": [
            "Array setelah diubah tanggal hari ini:\n",
            "[2, 4, 6, 9]\n",
            "[1, 3, 5, 4]\n",
            "[7, 8, 9, 18]\n"
          ]
        }
      ]
    },
    {
      "cell_type": "code",
      "source": [
        "#Latihan 10\n",
        "belanja =[\"Siomay\",\"Bakso\",\"Ayam Geprek\",]\n",
        "\n",
        "belanja.append(\"Mie Ayam\")\n",
        "belanja.remove(\"Bakso\")\n",
        "\n",
        "print(\"Daftar belanja saya🤤:\")\n",
        "for i in belanja:\n",
        "  print(i)\n"
      ],
      "metadata": {
        "colab": {
          "base_uri": "https://localhost:8080/"
        },
        "id": "g5Xk9GHe-ww6",
        "outputId": "8752ab4f-08c0-45e2-e9fc-3b7440b9beee"
      },
      "execution_count": null,
      "outputs": [
        {
          "output_type": "stream",
          "name": "stdout",
          "text": [
            "Daftar belanja saya🤤:\n",
            "Siomay\n",
            "Ayam Geprek\n",
            "Mie Ayam\n"
          ]
        }
      ]
    }
  ]
}