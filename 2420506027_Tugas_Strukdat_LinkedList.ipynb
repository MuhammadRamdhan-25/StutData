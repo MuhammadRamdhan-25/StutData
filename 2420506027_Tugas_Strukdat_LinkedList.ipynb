{
  "nbformat": 4,
  "nbformat_minor": 0,
  "metadata": {
    "colab": {
      "provenance": [],
      "authorship_tag": "ABX9TyO9HFrnQkbV/4hDrJOOswp2",
      "include_colab_link": true
    },
    "kernelspec": {
      "name": "python3",
      "display_name": "Python 3"
    },
    "language_info": {
      "name": "python"
    }
  },
  "cells": [
    {
      "cell_type": "markdown",
      "metadata": {
        "id": "view-in-github",
        "colab_type": "text"
      },
      "source": [
        "<a href=\"https://colab.research.google.com/github/MuhammadRamdhan-25/StutData/blob/main/2420506027_Tugas_Strukdat_LinkedList.ipynb\" target=\"_parent\"><img src=\"https://colab.research.google.com/assets/colab-badge.svg\" alt=\"Open In Colab\"/></a>"
      ]
    },
    {
      "cell_type": "code",
      "source": [
        "class Satpam:\n",
        "    def __init__(self, name):\n",
        "        self.name = name\n",
        "        self.next = None\n",
        "\n",
        "class Jadwal:\n",
        "    def __init__(self):\n",
        "        self.head = None\n",
        "\n",
        "    def add_satpam(self, name):\n",
        "        new_satpam = Satpam(name)\n",
        "        if not self.head:\n",
        "            self.head = new_satpam\n",
        "        else:\n",
        "            current = self.head\n",
        "            while current.next:\n",
        "                current = current.next\n",
        "            current.next = new_satpam\n",
        "\n",
        "    def show_jadwal(self):\n",
        "        if not self.head:\n",
        "            print(\"\\nJadwal kosong!\")\n",
        "            return\n",
        "\n",
        "        print(\"\\n📃Jadwal Satpam Selama 2 Minggu:\")\n",
        "        current = self.head\n",
        "        for day in range(1, 15):\n",
        "            print(f\"Hari {day}: {current.name}\")\n",
        "            current = current.next if current.next else self.head\n",
        "\n",
        "\n",
        "jadwal_satpam = Jadwal()\n",
        "num_satpam = 4\n",
        "for i in range(num_satpam):\n",
        "    jadwal_satpam.add_satpam(input(f\"Nama satpam ke-{i+1}: \"))\n",
        "\n",
        "jadwal_satpam.show_jadwal()\n"
      ],
      "metadata": {
        "colab": {
          "base_uri": "https://localhost:8080/"
        },
        "id": "fY_UE1jc8y5J",
        "outputId": "e8d09cdb-adb8-4548-8ff6-c11c907abd97"
      },
      "execution_count": 28,
      "outputs": [
        {
          "output_type": "stream",
          "name": "stdout",
          "text": [
            "Nama satpam ke-1: Muhammad Ramdhan\n",
            "Nama satpam ke-2: Assep Wahid\n",
            "Nama satpam ke-3: Hakkan Azrul S\n",
            "Nama satpam ke-4: Yasabuana\n",
            "\n",
            "📃Jadwal Satpam Selama 2 Minggu:\n",
            "Hari 1: Muhammad Ramdhan\n",
            "Hari 2: Assep Wahid\n",
            "Hari 3: Hakkan Azrul S\n",
            "Hari 4: Yasabuana\n",
            "Hari 5: Muhammad Ramdhan\n",
            "Hari 6: Assep Wahid\n",
            "Hari 7: Hakkan Azrul S\n",
            "Hari 8: Yasabuana\n",
            "Hari 9: Muhammad Ramdhan\n",
            "Hari 10: Assep Wahid\n",
            "Hari 11: Hakkan Azrul S\n",
            "Hari 12: Yasabuana\n",
            "Hari 13: Muhammad Ramdhan\n",
            "Hari 14: Assep Wahid\n"
          ]
        }
      ]
    }
  ]
}