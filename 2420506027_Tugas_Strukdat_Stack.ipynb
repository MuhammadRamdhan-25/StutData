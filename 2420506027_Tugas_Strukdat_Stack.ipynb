{
  "nbformat": 4,
  "nbformat_minor": 0,
  "metadata": {
    "colab": {
      "provenance": [],
      "authorship_tag": "ABX9TyMkKw+FFFt6NYcsq8T6OqSk",
      "include_colab_link": true
    },
    "kernelspec": {
      "name": "python3",
      "display_name": "Python 3"
    },
    "language_info": {
      "name": "python"
    }
  },
  "cells": [
    {
      "cell_type": "markdown",
      "metadata": {
        "id": "view-in-github",
        "colab_type": "text"
      },
      "source": [
        "<a href=\"https://colab.research.google.com/github/MuhammadRamdhan-25/StutData/blob/main/2420506027_Tugas_Strukdat_Stack.ipynb\" target=\"_parent\"><img src=\"https://colab.research.google.com/assets/colab-badge.svg\" alt=\"Open In Colab\"/></a>"
      ]
    },
    {
      "cell_type": "code",
      "source": [
        "#TUGAS ROMBEL 2\n",
        "class Gudang:\n",
        "    def __init__(self, kapasitas_maksimum):\n",
        "        self.stack = []\n",
        "        self.kapasitas_maksimum = kapasitas_maksimum\n",
        "\n",
        "    def push(self, item):\n",
        "        if not item.strip():\n",
        "            print(\"Nama barang tidak boleh kosong!\")\n",
        "            return\n",
        "\n",
        "        if len(self.stack) >= self.kapasitas_maksimum:\n",
        "            print(\"Gudang penuh! Tidak dapat menambahkan barang lagi.\")\n",
        "        else:\n",
        "            self.stack.append(item)\n",
        "            print(f\"'{item}' telah ditambahkan ke gudang.\")\n",
        "\n",
        "    def pop(self):\n",
        "        if not self.stack:\n",
        "            print(\"Gudang kosong! Tidak ada barang yang dapat dihapus.\")\n",
        "        else:\n",
        "            item_dihapus = self.stack.pop()\n",
        "            print(f\" '{item_dihapus}' telah dihapus dari gudang.\")\n",
        "\n",
        "    def display(self):\n",
        "        if not self.stack:\n",
        "            print(\" Gudang kosong.\")\n",
        "        else:\n",
        "            print(\"\\n Isi gudang saat ini (dari atas ke bawah):\")\n",
        "            for item in reversed(self.stack):\n",
        "                print(f\"{item}\")\n",
        "\n",
        "def main():\n",
        "    npm = input(\"Masukkan 2 digit terakhir NPM : \").strip()\n",
        "\n",
        "    if not npm.isdigit() or len(npm) != 2:\n",
        "        print(\" NPM harus bejumlah 2.\")\n",
        "        return\n",
        "\n",
        "    kapasitas_maksimum = int(npm)\n",
        "    gudang = Gudang(kapasitas_maksimum)\n",
        "\n",
        "    print(f\"\\nGudang siap digunakan dengan kapasitas maksimum {kapasitas_maksimum} item.\")\n",
        "\n",
        "    while True:\n",
        "        print(\"\\nPilihan: push (masukkan barang), pop (keluarkan barang), display (lihat isi gudang), keluar (keluar dari program)\")\n",
        "        pilihan = input(\"Masukkan perintah: \").strip().lower()\n",
        "\n",
        "        if pilihan == \"push\":\n",
        "            item = input(\"Masukkan nama barang: \").strip()\n",
        "            gudang.push(item)\n",
        "        elif pilihan == \"pop\":\n",
        "            gudang.pop()\n",
        "        elif pilihan == \"display\":\n",
        "            gudang.display()\n",
        "        elif pilihan == \"keluar\":\n",
        "            print(\"Keluar dari gudang.\")\n",
        "            break\n",
        "        else:\n",
        "            print(\"Perintah tidak valid! Silakan masukkan opsi yang benar.\")\n",
        "\n",
        "if __name__ == \"__main__\":\n",
        "    main()"
      ],
      "metadata": {
        "id": "v9aswpFS2ZGJ"
      },
      "execution_count": null,
      "outputs": []
    }
  ]
}