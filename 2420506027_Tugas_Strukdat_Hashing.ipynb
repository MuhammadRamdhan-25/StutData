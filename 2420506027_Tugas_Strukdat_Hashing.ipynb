{
  "nbformat": 4,
  "nbformat_minor": 0,
  "metadata": {
    "colab": {
      "provenance": [],
      "authorship_tag": "ABX9TyNy0g/qoVtLGqbbraV47QJL",
      "include_colab_link": true
    },
    "kernelspec": {
      "name": "python3",
      "display_name": "Python 3"
    },
    "language_info": {
      "name": "python"
    }
  },
  "cells": [
    {
      "cell_type": "markdown",
      "metadata": {
        "id": "view-in-github",
        "colab_type": "text"
      },
      "source": [
        "<a href=\"https://colab.research.google.com/github/MuhammadRamdhan-25/StutData/blob/main/2420506027_Tugas_Strukdat_Hashing.ipynb\" target=\"_parent\"><img src=\"https://colab.research.google.com/assets/colab-badge.svg\" alt=\"Open In Colab\"/></a>"
      ]
    },
    {
      "cell_type": "code",
      "source": [
        "class linearProbingHashTable:\n",
        "  def __init__(self, size):\n",
        "    self.size = size\n",
        "    self.table = [None] * size\n",
        "\n",
        "  def hash_function(self, key):\n",
        "    return hash (key) % self.size\n",
        "\n",
        "  def insert(self, key, value):\n",
        "    index = self.hash_function(key)\n",
        "    original_index = index\n",
        "\n",
        "    while self.table[index] is not None:\n",
        "      if self.table[index][0] == key:\n",
        "         break\n",
        "      index = (index + 1) % self.size\n",
        "      if index == original_index:\n",
        "        raise Exception('Telah Penuh')\n",
        "    self.table[index] = (key, value)\n",
        "\n",
        "  def search(self, key):\n",
        "    index = self.hash_function(key)\n",
        "    original_index = index\n",
        "\n",
        "    while self.table[index] is not None:\n",
        "      if self.table[index][0] == key:\n",
        "        return self.table[index][1]\n",
        "      index = (index + 1) % self.size\n",
        "      if index == original_index:\n",
        "        break\n",
        "    return None\n",
        "\n",
        "data = [(\"A\", 10), (\"B\", 20), (\"C\", 30), (\"D\", 40), (\"E\", 50)]\n",
        "\n",
        "ht = linearProbingHashTable(5)\n",
        "\n",
        "for key, value in data:\n",
        "    ht.insert(key, value)\n",
        "\n",
        "ht.display()\n"
      ],
      "metadata": {
        "colab": {
          "base_uri": "https://localhost:8080/"
        },
        "id": "1wbGgLw2wjlG",
        "outputId": "3fa21090-ac0c-4ead-fd82-fe6bc14326a4"
      },
      "execution_count": 9,
      "outputs": [
        {
          "output_type": "stream",
          "name": "stdout",
          "text": [
            "Index 0: ('B', 20)\n",
            "Index 1: ('C', 30)\n",
            "Index 2: ('D', 40)\n",
            "Index 3: ('E', 50)\n",
            "Index 4: ('A', 10)\n"
          ]
        }
      ]
    },
    {
      "cell_type": "code",
      "source": [
        "class chaininghashtable:\n",
        "  def __init__(self, size):\n",
        "    self.size = size\n",
        "    self.table = [[] for _ in range (size)]\n",
        "\n",
        "  def hash_function(self, key):\n",
        "    return hash (key) % self.size\n",
        "\n",
        "  def insert (self, key , value):\n",
        "    index = self.hash_function(key)\n",
        "    for i, (k, v) in enumerate (self.table[index]):\n",
        "      if k == key:\n",
        "        self.table[index][i] = (key, value)\n",
        "        return\n",
        "    self.table[index].append((key, value))\n",
        "\n",
        "  def search(self, key):\n",
        "    index = self.hash_function(key)\n",
        "    for k, v in self.table[index]:\n",
        "      if k == key:\n",
        "        return v\n",
        "    return None\n",
        "\n",
        "ht = chaininghashtable(3)\n",
        "\n",
        "ht.insert('Anggur', 100)\n",
        "ht.insert('Belimbing',200)\n",
        "ht.insert('Chery',300)\n",
        "ht.insert('Bengkoang',400)\n",
        "\n",
        "for i, item in enumerate (ht.table):\n",
        "  print(f\"index {i}: {item}\")"
      ],
      "metadata": {
        "colab": {
          "base_uri": "https://localhost:8080/"
        },
        "id": "CjBf2J401y3Q",
        "outputId": "98df2ca2-de84-44ac-97ed-faacec3a727a"
      },
      "execution_count": 12,
      "outputs": [
        {
          "output_type": "stream",
          "name": "stdout",
          "text": [
            "index 0: [('Belimbing', 200)]\n",
            "index 1: [('Chery', 300)]\n",
            "index 2: [('Anggur', 100), ('Bengkoang', 400)]\n"
          ]
        }
      ]
    }
  ]
}