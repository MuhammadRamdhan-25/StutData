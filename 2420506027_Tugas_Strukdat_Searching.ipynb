{
  "nbformat": 4,
  "nbformat_minor": 0,
  "metadata": {
    "colab": {
      "provenance": [],
      "authorship_tag": "ABX9TyMkt+vOUHACbzaD/ViDz8ZH",
      "include_colab_link": true
    },
    "kernelspec": {
      "name": "python3",
      "display_name": "Python 3"
    },
    "language_info": {
      "name": "python"
    }
  },
  "cells": [
    {
      "cell_type": "markdown",
      "metadata": {
        "id": "view-in-github",
        "colab_type": "text"
      },
      "source": [
        "<a href=\"https://colab.research.google.com/github/MuhammadRamdhan-25/StutData/blob/main/2420506027_Tugas_Strukdat_Searching.ipynb\" target=\"_parent\"><img src=\"https://colab.research.google.com/assets/colab-badge.svg\" alt=\"Open In Colab\"/></a>"
      ]
    },
    {
      "cell_type": "markdown",
      "source": [
        "Tugas"
      ],
      "metadata": {
        "id": "Iaw-q5uR4xTo"
      }
    },
    {
      "cell_type": "code",
      "source": [
        "from prettytable import PrettyTable\n",
        "import math\n",
        "import random\n",
        "\n",
        "def linear_search(arr,target):\n",
        "  count = 0\n",
        "  for i  in range(len(arr)):\n",
        "    count +=1\n",
        "    if arr[i] == target:\n",
        "      return i,count\n",
        "  return -1,count\n",
        "\n",
        "def binary_search(arr,target):\n",
        "  low = 0\n",
        "  high = len(arr) -1\n",
        "  count = 0\n",
        "\n",
        "  while low <= high:\n",
        "    count +=1\n",
        "    mid = (low + high) //2\n",
        "    if arr [mid] == target:\n",
        "      return mid, count\n",
        "    elif arr[mid] < target:\n",
        "      low = mid + 1\n",
        "    else:\n",
        "      high = mid - 1\n",
        "\n",
        "  return -1, count\n",
        "\n",
        "def jump_search(arr,target):\n",
        "  count = 0\n",
        "  n = len(arr)\n",
        "  step = int(math.sqrt(n))\n",
        "  prev = 0\n",
        "\n",
        "  while arr[min(step, n) -1] < target:\n",
        "    count +=1\n",
        "    prev = step\n",
        "    step += int(math.sqrt(n))\n",
        "    if prev >= n:\n",
        "      return -1,count\n",
        "\n",
        "  for i in range(prev, min(step, n)):\n",
        "    count +=1\n",
        "    if arr[i] == target:\n",
        "      return i, count\n",
        "  return -1, count\n",
        "\n",
        "arr = sorted(random.sample(range(1,1001), 100))\n",
        "target = arr[len(arr) //2]\n",
        "\n",
        "result, linear_count = linear_search(arr, target)\n",
        "result, binary_count = binary_search(arr, target)\n",
        "result, jump_count = jump_search(arr, target)\n",
        "\n",
        "\n",
        "prettytable = PrettyTable()\n",
        "prettytable.field_names = ['Algoritma','Indeks','Perbandingan']\n",
        "prettytable.add_row(['Linear Search', result, linear_count])\n",
        "prettytable.add_row(['Binary Search', result, binary_count])\n",
        "prettytable.add_row(['Jump Search', result, jump_count])\n",
        "\n",
        "print(prettytable)\n"
      ],
      "metadata": {
        "colab": {
          "base_uri": "https://localhost:8080/"
        },
        "id": "9uNWG-h9Tf5A",
        "outputId": "55deba81-76ef-491c-9e13-c7d7a781c523"
      },
      "execution_count": null,
      "outputs": [
        {
          "output_type": "stream",
          "name": "stdout",
          "text": [
            "+---------------+--------+--------------+\n",
            "|   Algoritma   | Indeks | Perbandingan |\n",
            "+---------------+--------+--------------+\n",
            "| Linear Search |   50   |      51      |\n",
            "| Binary Search |   50   |      6       |\n",
            "|  Jump Search  |   50   |      6       |\n",
            "+---------------+--------+--------------+\n"
          ]
        }
      ]
    }
  ]
}